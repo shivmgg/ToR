{
 "cells": [
  {
   "cell_type": "markdown",
   "metadata": {},
   "source": [
    "## Benchmarking tor\n",
    "We provide some benchmarking code in order to benchmark tor's throughput.\n",
    "\n",
    "**Note**: notebooks have an overhead. To properly benchmark, use a standalone script."
   ]
  },
  {
   "cell_type": "code",
   "execution_count": 1,
   "metadata": {},
   "outputs": [],
   "source": [
    "import timm\n",
    "import tor"
   ]
  },
  {
   "cell_type": "code",
   "execution_count": 2,
   "metadata": {},
   "outputs": [],
   "source": [
    "# Use any ViT model here (see timm.models.vision_transformer)\n",
    "model_name = \"vit_base_patch16_224\"\n",
    "\n",
    "# Load a pretrained model\n",
    "model = timm.create_model(model_name, pretrained=True)"
   ]
  },
  {
   "cell_type": "code",
   "execution_count": 3,
   "metadata": {},
   "outputs": [],
   "source": [
    "# Set this to be whatever device you want to benchmark on\n",
    "# If you don't have a GPU, you can use \"cpu\" but you probably want to set the # runs to be lower\n",
    "device = \"cuda:0\"\n",
    "runs = 50\n",
    "batch_size = 256  # Lower this if you don't have that much memory\n",
    "input_size = model.default_cfg[\"input_size\"]"
   ]
  },
  {
   "cell_type": "code",
   "execution_count": 4,
   "metadata": {},
   "outputs": [
    {
     "name": "stderr",
     "output_type": "stream",
     "text": [
      "Benchmarking: 100%|██████████| 50/50 [00:27<00:00,  1.80it/s]\n"
     ]
    },
    {
     "name": "stdout",
     "output_type": "stream",
     "text": [
      "Throughput: 420.78 im/s\n"
     ]
    }
   ],
   "source": [
    "# Baseline benchmark\n",
    "baseline_throughput = tor.utils.benchmark(\n",
    "    model,\n",
    "    device=device,\n",
    "    verbose=True,\n",
    "    runs=runs,\n",
    "    batch_size=batch_size,\n",
    "    input_size=input_size\n",
    ")"
   ]
  },
  {
   "cell_type": "markdown",
   "metadata": {},
   "source": [
    "### Applying tor\n",
    "Simply patch the model after initialization to enable tor."
   ]
  },
  {
   "cell_type": "code",
   "execution_count": 5,
   "metadata": {},
   "outputs": [],
   "source": [
    "# Apply tor\n",
    "tor.patch.timm(model)"
   ]
  },
  {
   "cell_type": "code",
   "execution_count": 6,
   "metadata": {},
   "outputs": [],
   "source": [
    "model.keep_rate = 0.5\n",
    "model.drop_loc=[3, 6, 9]\n",
    "model.token_fusion = True"
   ]
  },
  {
   "cell_type": "code",
   "execution_count": 7,
   "metadata": {},
   "outputs": [
    {
     "name": "stderr",
     "output_type": "stream",
     "text": [
      "Benchmarking: 100%|██████████| 50/50 [00:10<00:00,  4.99it/s]\n"
     ]
    },
    {
     "name": "stdout",
     "output_type": "stream",
     "text": [
      "Throughput: 1256.18 im/s\n",
      "Throughput improvement: 2.99x\n"
     ]
    }
   ],
   "source": [
    "# tor with r=16\n",
    "model.r = 16\n",
    "tor_throughput = tor.utils.benchmark(\n",
    "    model,\n",
    "    device=device,\n",
    "    verbose=True,\n",
    "    runs=runs,\n",
    "    batch_size=batch_size,\n",
    "    input_size=input_size\n",
    ")\n",
    "print(f\"Throughput improvement: {tor_throughput / baseline_throughput:.2f}x\")"
   ]
  },
  {
   "cell_type": "code",
   "execution_count": 8,
   "metadata": {},
   "outputs": [
    {
     "name": "stderr",
     "output_type": "stream",
     "text": [
      "Benchmarking: 100%|██████████| 50/50 [00:07<00:00,  6.37it/s]\n"
     ]
    },
    {
     "name": "stdout",
     "output_type": "stream",
     "text": [
      "Throughput: 1586.95 im/s\n",
      "Throughput improvement: 3.77x\n"
     ]
    }
   ],
   "source": [
    "# tor with r=16 and a decreasing schedule\n",
    "model.r = (16, -1.0)\n",
    "tor_decr_throughput = tor.utils.benchmark(\n",
    "    model,\n",
    "    device=device,\n",
    "    verbose=True,\n",
    "    runs=runs,\n",
    "    batch_size=batch_size,\n",
    "    input_size=input_size\n",
    ")\n",
    "print(f\"Throughput improvement: {tor_decr_throughput / baseline_throughput:.2f}x\")"
   ]
  }
 ],
 "metadata": {
  "kernelspec": {
   "display_name": "Python 3.10.6 ('tome')",
   "language": "python",
   "name": "python3"
  },
  "language_info": {
   "codemirror_mode": {
    "name": "ipython",
    "version": 3
   },
   "file_extension": ".py",
   "mimetype": "text/x-python",
   "name": "python",
   "nbconvert_exporter": "python",
   "pygments_lexer": "ipython3",
   "version": "3.10.13"
  },
  "orig_nbformat": 4,
  "vscode": {
   "interpreter": {
    "hash": "05c3e7d5f676d27e80c59167888c7f79621c476ae5272fc4e435fcce0be043ba"
   }
  }
 },
 "nbformat": 4,
 "nbformat_minor": 2
}
